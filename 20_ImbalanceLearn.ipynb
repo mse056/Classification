{
 "cells": [
  {
   "cell_type": "code",
   "execution_count": 1,
   "metadata": {},
   "outputs": [
    {
     "name": "stderr",
     "output_type": "stream",
     "text": [
      "<frozen importlib._bootstrap>:241: RuntimeWarning: numpy.ufunc size changed, may indicate binary incompatibility. Expected 216 from C header, got 232 from PyObject\n"
     ]
    }
   ],
   "source": [
    "import pandas as pd\n",
    "import numpy as np\n",
    "import random\n",
    "from catboost import CatBoostClassifier\n",
    "from sklearn.model_selection import train_test_split\n",
    "from sklearn.metrics import confusion_matrix, classification_report\n",
    "from imblearn.under_sampling import  TomekLinks\n",
    "from imblearn.over_sampling import SMOTE\n",
    "from imblearn.combine import SMOTETomek"
   ]
  },
  {
   "cell_type": "code",
   "execution_count": 2,
   "metadata": {},
   "outputs": [
    {
     "data": {
      "text/html": [
       "<div>\n",
       "<style scoped>\n",
       "    .dataframe tbody tr th:only-of-type {\n",
       "        vertical-align: middle;\n",
       "    }\n",
       "\n",
       "    .dataframe tbody tr th {\n",
       "        vertical-align: top;\n",
       "    }\n",
       "\n",
       "    .dataframe thead th {\n",
       "        text-align: right;\n",
       "    }\n",
       "</style>\n",
       "<table border=\"1\" class=\"dataframe\">\n",
       "  <thead>\n",
       "    <tr style=\"text-align: right;\">\n",
       "      <th></th>\n",
       "      <th>id</th>\n",
       "      <th>target</th>\n",
       "      <th>ps_ind_01</th>\n",
       "      <th>ps_ind_02_cat</th>\n",
       "      <th>ps_ind_03</th>\n",
       "      <th>ps_ind_04_cat</th>\n",
       "      <th>ps_ind_05_cat</th>\n",
       "      <th>ps_ind_06_bin</th>\n",
       "      <th>ps_ind_07_bin</th>\n",
       "      <th>ps_ind_08_bin</th>\n",
       "      <th>...</th>\n",
       "      <th>ps_calc_11</th>\n",
       "      <th>ps_calc_12</th>\n",
       "      <th>ps_calc_13</th>\n",
       "      <th>ps_calc_14</th>\n",
       "      <th>ps_calc_15_bin</th>\n",
       "      <th>ps_calc_16_bin</th>\n",
       "      <th>ps_calc_17_bin</th>\n",
       "      <th>ps_calc_18_bin</th>\n",
       "      <th>ps_calc_19_bin</th>\n",
       "      <th>ps_calc_20_bin</th>\n",
       "    </tr>\n",
       "  </thead>\n",
       "  <tbody>\n",
       "    <tr>\n",
       "      <th>0</th>\n",
       "      <td>313</td>\n",
       "      <td>0</td>\n",
       "      <td>1</td>\n",
       "      <td>1</td>\n",
       "      <td>5</td>\n",
       "      <td>1</td>\n",
       "      <td>0</td>\n",
       "      <td>0</td>\n",
       "      <td>1</td>\n",
       "      <td>0</td>\n",
       "      <td>...</td>\n",
       "      <td>3</td>\n",
       "      <td>1</td>\n",
       "      <td>4</td>\n",
       "      <td>7</td>\n",
       "      <td>1</td>\n",
       "      <td>0</td>\n",
       "      <td>0</td>\n",
       "      <td>0</td>\n",
       "      <td>0</td>\n",
       "      <td>0</td>\n",
       "    </tr>\n",
       "    <tr>\n",
       "      <th>1</th>\n",
       "      <td>586</td>\n",
       "      <td>0</td>\n",
       "      <td>2</td>\n",
       "      <td>1</td>\n",
       "      <td>3</td>\n",
       "      <td>0</td>\n",
       "      <td>0</td>\n",
       "      <td>0</td>\n",
       "      <td>0</td>\n",
       "      <td>0</td>\n",
       "      <td>...</td>\n",
       "      <td>6</td>\n",
       "      <td>5</td>\n",
       "      <td>2</td>\n",
       "      <td>6</td>\n",
       "      <td>0</td>\n",
       "      <td>0</td>\n",
       "      <td>0</td>\n",
       "      <td>0</td>\n",
       "      <td>0</td>\n",
       "      <td>0</td>\n",
       "    </tr>\n",
       "    <tr>\n",
       "      <th>2</th>\n",
       "      <td>846</td>\n",
       "      <td>0</td>\n",
       "      <td>7</td>\n",
       "      <td>1</td>\n",
       "      <td>9</td>\n",
       "      <td>0</td>\n",
       "      <td>0</td>\n",
       "      <td>1</td>\n",
       "      <td>0</td>\n",
       "      <td>0</td>\n",
       "      <td>...</td>\n",
       "      <td>9</td>\n",
       "      <td>3</td>\n",
       "      <td>5</td>\n",
       "      <td>5</td>\n",
       "      <td>0</td>\n",
       "      <td>1</td>\n",
       "      <td>1</td>\n",
       "      <td>0</td>\n",
       "      <td>1</td>\n",
       "      <td>0</td>\n",
       "    </tr>\n",
       "    <tr>\n",
       "      <th>3</th>\n",
       "      <td>1021</td>\n",
       "      <td>0</td>\n",
       "      <td>1</td>\n",
       "      <td>1</td>\n",
       "      <td>9</td>\n",
       "      <td>0</td>\n",
       "      <td>0</td>\n",
       "      <td>1</td>\n",
       "      <td>0</td>\n",
       "      <td>0</td>\n",
       "      <td>...</td>\n",
       "      <td>7</td>\n",
       "      <td>1</td>\n",
       "      <td>1</td>\n",
       "      <td>8</td>\n",
       "      <td>0</td>\n",
       "      <td>0</td>\n",
       "      <td>1</td>\n",
       "      <td>0</td>\n",
       "      <td>1</td>\n",
       "      <td>0</td>\n",
       "    </tr>\n",
       "    <tr>\n",
       "      <th>4</th>\n",
       "      <td>1046</td>\n",
       "      <td>0</td>\n",
       "      <td>7</td>\n",
       "      <td>1</td>\n",
       "      <td>5</td>\n",
       "      <td>0</td>\n",
       "      <td>6</td>\n",
       "      <td>0</td>\n",
       "      <td>0</td>\n",
       "      <td>1</td>\n",
       "      <td>...</td>\n",
       "      <td>3</td>\n",
       "      <td>0</td>\n",
       "      <td>1</td>\n",
       "      <td>10</td>\n",
       "      <td>0</td>\n",
       "      <td>0</td>\n",
       "      <td>0</td>\n",
       "      <td>0</td>\n",
       "      <td>1</td>\n",
       "      <td>0</td>\n",
       "    </tr>\n",
       "  </tbody>\n",
       "</table>\n",
       "<p>5 rows × 59 columns</p>\n",
       "</div>"
      ],
      "text/plain": [
       "     id  target  ps_ind_01  ps_ind_02_cat  ps_ind_03  ps_ind_04_cat  \\\n",
       "0   313       0          1              1          5              1   \n",
       "1   586       0          2              1          3              0   \n",
       "2   846       0          7              1          9              0   \n",
       "3  1021       0          1              1          9              0   \n",
       "4  1046       0          7              1          5              0   \n",
       "\n",
       "   ps_ind_05_cat  ps_ind_06_bin  ps_ind_07_bin  ps_ind_08_bin  ...  \\\n",
       "0              0              0              1              0  ...   \n",
       "1              0              0              0              0  ...   \n",
       "2              0              1              0              0  ...   \n",
       "3              0              1              0              0  ...   \n",
       "4              6              0              0              1  ...   \n",
       "\n",
       "   ps_calc_11  ps_calc_12  ps_calc_13  ps_calc_14  ps_calc_15_bin  \\\n",
       "0           3           1           4           7               1   \n",
       "1           6           5           2           6               0   \n",
       "2           9           3           5           5               0   \n",
       "3           7           1           1           8               0   \n",
       "4           3           0           1          10               0   \n",
       "\n",
       "   ps_calc_16_bin  ps_calc_17_bin  ps_calc_18_bin  ps_calc_19_bin  \\\n",
       "0               0               0               0               0   \n",
       "1               0               0               0               0   \n",
       "2               1               1               0               1   \n",
       "3               0               1               0               1   \n",
       "4               0               0               0               1   \n",
       "\n",
       "   ps_calc_20_bin  \n",
       "0               0  \n",
       "1               0  \n",
       "2               0  \n",
       "3               0  \n",
       "4               0  \n",
       "\n",
       "[5 rows x 59 columns]"
      ]
     },
     "execution_count": 2,
     "metadata": {},
     "output_type": "execute_result"
    }
   ],
   "source": [
    "n=10000\n",
    "skip = sorted(random.sample(range(1, 595212), 595212-n))\n",
    "data = pd.read_csv('data/train.csv', skiprows=skip)\n",
    "data.head()"
   ]
  },
  {
   "cell_type": "code",
   "execution_count": 3,
   "metadata": {},
   "outputs": [
    {
     "data": {
      "text/html": [
       "<div>\n",
       "<style scoped>\n",
       "    .dataframe tbody tr th:only-of-type {\n",
       "        vertical-align: middle;\n",
       "    }\n",
       "\n",
       "    .dataframe tbody tr th {\n",
       "        vertical-align: top;\n",
       "    }\n",
       "\n",
       "    .dataframe thead th {\n",
       "        text-align: right;\n",
       "    }\n",
       "</style>\n",
       "<table border=\"1\" class=\"dataframe\">\n",
       "  <thead>\n",
       "    <tr style=\"text-align: right;\">\n",
       "      <th></th>\n",
       "      <th>ps_ind_01</th>\n",
       "      <th>ps_ind_02_cat</th>\n",
       "      <th>ps_ind_03</th>\n",
       "      <th>ps_ind_04_cat</th>\n",
       "      <th>ps_ind_05_cat</th>\n",
       "      <th>ps_ind_06_bin</th>\n",
       "      <th>ps_ind_07_bin</th>\n",
       "      <th>ps_ind_08_bin</th>\n",
       "      <th>ps_ind_09_bin</th>\n",
       "      <th>ps_ind_10_bin</th>\n",
       "      <th>...</th>\n",
       "      <th>ps_calc_11</th>\n",
       "      <th>ps_calc_12</th>\n",
       "      <th>ps_calc_13</th>\n",
       "      <th>ps_calc_14</th>\n",
       "      <th>ps_calc_15_bin</th>\n",
       "      <th>ps_calc_16_bin</th>\n",
       "      <th>ps_calc_17_bin</th>\n",
       "      <th>ps_calc_18_bin</th>\n",
       "      <th>ps_calc_19_bin</th>\n",
       "      <th>ps_calc_20_bin</th>\n",
       "    </tr>\n",
       "  </thead>\n",
       "  <tbody>\n",
       "    <tr>\n",
       "      <th>0</th>\n",
       "      <td>1</td>\n",
       "      <td>1</td>\n",
       "      <td>5</td>\n",
       "      <td>1</td>\n",
       "      <td>0</td>\n",
       "      <td>0</td>\n",
       "      <td>1</td>\n",
       "      <td>0</td>\n",
       "      <td>0</td>\n",
       "      <td>0</td>\n",
       "      <td>...</td>\n",
       "      <td>3</td>\n",
       "      <td>1</td>\n",
       "      <td>4</td>\n",
       "      <td>7</td>\n",
       "      <td>1</td>\n",
       "      <td>0</td>\n",
       "      <td>0</td>\n",
       "      <td>0</td>\n",
       "      <td>0</td>\n",
       "      <td>0</td>\n",
       "    </tr>\n",
       "    <tr>\n",
       "      <th>1</th>\n",
       "      <td>2</td>\n",
       "      <td>1</td>\n",
       "      <td>3</td>\n",
       "      <td>0</td>\n",
       "      <td>0</td>\n",
       "      <td>0</td>\n",
       "      <td>0</td>\n",
       "      <td>0</td>\n",
       "      <td>1</td>\n",
       "      <td>0</td>\n",
       "      <td>...</td>\n",
       "      <td>6</td>\n",
       "      <td>5</td>\n",
       "      <td>2</td>\n",
       "      <td>6</td>\n",
       "      <td>0</td>\n",
       "      <td>0</td>\n",
       "      <td>0</td>\n",
       "      <td>0</td>\n",
       "      <td>0</td>\n",
       "      <td>0</td>\n",
       "    </tr>\n",
       "    <tr>\n",
       "      <th>2</th>\n",
       "      <td>7</td>\n",
       "      <td>1</td>\n",
       "      <td>9</td>\n",
       "      <td>0</td>\n",
       "      <td>0</td>\n",
       "      <td>1</td>\n",
       "      <td>0</td>\n",
       "      <td>0</td>\n",
       "      <td>0</td>\n",
       "      <td>0</td>\n",
       "      <td>...</td>\n",
       "      <td>9</td>\n",
       "      <td>3</td>\n",
       "      <td>5</td>\n",
       "      <td>5</td>\n",
       "      <td>0</td>\n",
       "      <td>1</td>\n",
       "      <td>1</td>\n",
       "      <td>0</td>\n",
       "      <td>1</td>\n",
       "      <td>0</td>\n",
       "    </tr>\n",
       "    <tr>\n",
       "      <th>3</th>\n",
       "      <td>1</td>\n",
       "      <td>1</td>\n",
       "      <td>9</td>\n",
       "      <td>0</td>\n",
       "      <td>0</td>\n",
       "      <td>1</td>\n",
       "      <td>0</td>\n",
       "      <td>0</td>\n",
       "      <td>0</td>\n",
       "      <td>0</td>\n",
       "      <td>...</td>\n",
       "      <td>7</td>\n",
       "      <td>1</td>\n",
       "      <td>1</td>\n",
       "      <td>8</td>\n",
       "      <td>0</td>\n",
       "      <td>0</td>\n",
       "      <td>1</td>\n",
       "      <td>0</td>\n",
       "      <td>1</td>\n",
       "      <td>0</td>\n",
       "    </tr>\n",
       "    <tr>\n",
       "      <th>4</th>\n",
       "      <td>7</td>\n",
       "      <td>1</td>\n",
       "      <td>5</td>\n",
       "      <td>0</td>\n",
       "      <td>6</td>\n",
       "      <td>0</td>\n",
       "      <td>0</td>\n",
       "      <td>1</td>\n",
       "      <td>0</td>\n",
       "      <td>0</td>\n",
       "      <td>...</td>\n",
       "      <td>3</td>\n",
       "      <td>0</td>\n",
       "      <td>1</td>\n",
       "      <td>10</td>\n",
       "      <td>0</td>\n",
       "      <td>0</td>\n",
       "      <td>0</td>\n",
       "      <td>0</td>\n",
       "      <td>1</td>\n",
       "      <td>0</td>\n",
       "    </tr>\n",
       "  </tbody>\n",
       "</table>\n",
       "<p>5 rows × 57 columns</p>\n",
       "</div>"
      ],
      "text/plain": [
       "   ps_ind_01  ps_ind_02_cat  ps_ind_03  ps_ind_04_cat  ps_ind_05_cat  \\\n",
       "0          1              1          5              1              0   \n",
       "1          2              1          3              0              0   \n",
       "2          7              1          9              0              0   \n",
       "3          1              1          9              0              0   \n",
       "4          7              1          5              0              6   \n",
       "\n",
       "   ps_ind_06_bin  ps_ind_07_bin  ps_ind_08_bin  ps_ind_09_bin  ps_ind_10_bin  \\\n",
       "0              0              1              0              0              0   \n",
       "1              0              0              0              1              0   \n",
       "2              1              0              0              0              0   \n",
       "3              1              0              0              0              0   \n",
       "4              0              0              1              0              0   \n",
       "\n",
       "   ...  ps_calc_11  ps_calc_12  ps_calc_13  ps_calc_14  ps_calc_15_bin  \\\n",
       "0  ...           3           1           4           7               1   \n",
       "1  ...           6           5           2           6               0   \n",
       "2  ...           9           3           5           5               0   \n",
       "3  ...           7           1           1           8               0   \n",
       "4  ...           3           0           1          10               0   \n",
       "\n",
       "   ps_calc_16_bin  ps_calc_17_bin  ps_calc_18_bin  ps_calc_19_bin  \\\n",
       "0               0               0               0               0   \n",
       "1               0               0               0               0   \n",
       "2               1               1               0               1   \n",
       "3               0               1               0               1   \n",
       "4               0               0               0               1   \n",
       "\n",
       "   ps_calc_20_bin  \n",
       "0               0  \n",
       "1               0  \n",
       "2               0  \n",
       "3               0  \n",
       "4               0  \n",
       "\n",
       "[5 rows x 57 columns]"
      ]
     },
     "execution_count": 3,
     "metadata": {},
     "output_type": "execute_result"
    }
   ],
   "source": [
    "x = data.iloc[:, 2:]\n",
    "x.head()"
   ]
  },
  {
   "cell_type": "code",
   "execution_count": 4,
   "metadata": {},
   "outputs": [],
   "source": [
    "y = data['target']"
   ]
  },
  {
   "cell_type": "code",
   "execution_count": 5,
   "metadata": {},
   "outputs": [
    {
     "data": {
      "text/plain": [
       "[1, 3, 4, 21, 22, 23, 24, 25, 26, 27, 28, 29, 30, 31]"
      ]
     },
     "execution_count": 5,
     "metadata": {},
     "output_type": "execute_result"
    }
   ],
   "source": [
    "cat_col = [i for i in range(0, len(x.columns)) if 'cat' in x.columns[i]]\n",
    "cat_col"
   ]
  },
  {
   "cell_type": "code",
   "execution_count": 6,
   "metadata": {},
   "outputs": [],
   "source": [
    "tl = TomekLinks()\n",
    "x_tl, y_tl = tl.fit_resample(x,y)"
   ]
  },
  {
   "cell_type": "code",
   "execution_count": 7,
   "metadata": {},
   "outputs": [
    {
     "name": "stdout",
     "output_type": "stream",
     "text": [
      "0:\tlearn: 0.9638424\ttest: 0.9615540\tbest: 0.9615540 (0)\ttotal: 177ms\tremaining: 52.8s\n",
      "10:\tlearn: 0.9638424\ttest: 0.9615540\tbest: 0.9615540 (0)\ttotal: 481ms\tremaining: 12.6s\n",
      "20:\tlearn: 0.9638424\ttest: 0.9615540\tbest: 0.9615540 (0)\ttotal: 742ms\tremaining: 9.86s\n",
      "30:\tlearn: 0.9638424\ttest: 0.9615540\tbest: 0.9615540 (0)\ttotal: 1.02s\tremaining: 8.82s\n",
      "40:\tlearn: 0.9638424\ttest: 0.9615540\tbest: 0.9615540 (0)\ttotal: 1.43s\tremaining: 9.06s\n",
      "50:\tlearn: 0.9639773\ttest: 0.9615540\tbest: 0.9615540 (0)\ttotal: 1.83s\tremaining: 8.93s\n",
      "60:\tlearn: 0.9639773\ttest: 0.9615540\tbest: 0.9615540 (0)\ttotal: 2.22s\tremaining: 8.71s\n",
      "70:\tlearn: 0.9639773\ttest: 0.9615540\tbest: 0.9615540 (0)\ttotal: 2.56s\tremaining: 8.27s\n",
      "80:\tlearn: 0.9639773\ttest: 0.9615540\tbest: 0.9615540 (0)\ttotal: 2.97s\tremaining: 8.03s\n",
      "90:\tlearn: 0.9639773\ttest: 0.9615540\tbest: 0.9615540 (0)\ttotal: 3.33s\tremaining: 7.65s\n",
      "100:\tlearn: 0.9641123\ttest: 0.9615540\tbest: 0.9615540 (0)\ttotal: 3.71s\tremaining: 7.32s\n",
      "110:\tlearn: 0.9643821\ttest: 0.9615540\tbest: 0.9615540 (0)\ttotal: 4.08s\tremaining: 6.95s\n",
      "120:\tlearn: 0.9646519\ttest: 0.9615540\tbest: 0.9615540 (0)\ttotal: 4.45s\tremaining: 6.59s\n",
      "130:\tlearn: 0.9646519\ttest: 0.9615540\tbest: 0.9615540 (0)\ttotal: 4.83s\tremaining: 6.23s\n",
      "140:\tlearn: 0.9649217\ttest: 0.9615540\tbest: 0.9615540 (0)\ttotal: 5.22s\tremaining: 5.89s\n",
      "150:\tlearn: 0.9654614\ttest: 0.9615540\tbest: 0.9615540 (0)\ttotal: 5.61s\tremaining: 5.54s\n",
      "160:\tlearn: 0.9655963\ttest: 0.9615540\tbest: 0.9615540 (0)\ttotal: 6.03s\tremaining: 5.21s\n",
      "170:\tlearn: 0.9661360\ttest: 0.9615540\tbest: 0.9615540 (0)\ttotal: 6.4s\tremaining: 4.83s\n",
      "180:\tlearn: 0.9665407\ttest: 0.9615540\tbest: 0.9615540 (0)\ttotal: 6.8s\tremaining: 4.47s\n",
      "190:\tlearn: 0.9672153\ttest: 0.9615540\tbest: 0.9615540 (0)\ttotal: 7.2s\tremaining: 4.11s\n",
      "200:\tlearn: 0.9681597\ttest: 0.9615540\tbest: 0.9615540 (0)\ttotal: 7.61s\tremaining: 3.75s\n",
      "210:\tlearn: 0.9685645\ttest: 0.9615540\tbest: 0.9615540 (0)\ttotal: 8.06s\tremaining: 3.4s\n",
      "220:\tlearn: 0.9689692\ttest: 0.9615540\tbest: 0.9615540 (0)\ttotal: 8.57s\tremaining: 3.06s\n",
      "230:\tlearn: 0.9695089\ttest: 0.9615540\tbest: 0.9615540 (0)\ttotal: 8.95s\tremaining: 2.67s\n",
      "240:\tlearn: 0.9703184\ttest: 0.9615540\tbest: 0.9615540 (0)\ttotal: 9.36s\tremaining: 2.29s\n",
      "250:\tlearn: 0.9705882\ttest: 0.9615540\tbest: 0.9615540 (0)\ttotal: 9.74s\tremaining: 1.9s\n",
      "260:\tlearn: 0.9709930\ttest: 0.9615540\tbest: 0.9615540 (0)\ttotal: 10.1s\tremaining: 1.51s\n",
      "270:\tlearn: 0.9722072\ttest: 0.9615540\tbest: 0.9615540 (0)\ttotal: 10.5s\tremaining: 1.12s\n",
      "280:\tlearn: 0.9731516\ttest: 0.9615540\tbest: 0.9615540 (0)\ttotal: 10.9s\tremaining: 734ms\n",
      "290:\tlearn: 0.9740961\ttest: 0.9615540\tbest: 0.9615540 (0)\ttotal: 11.2s\tremaining: 347ms\n",
      "299:\tlearn: 0.9754452\ttest: 0.9615540\tbest: 0.9615540 (0)\ttotal: 11.6s\tremaining: 0us\n",
      "\n",
      "bestTest = 0.9615540267\n",
      "bestIteration = 0\n",
      "\n",
      "Shrink model to first 1 iterations.\n"
     ]
    },
    {
     "data": {
      "text/plain": [
       "<catboost.core.CatBoostClassifier at 0x2438b8bee30>"
      ]
     },
     "execution_count": 7,
     "metadata": {},
     "output_type": "execute_result"
    }
   ],
   "source": [
    "x_train, x_test, y_train, y_test = train_test_split(x_tl, y_tl)\n",
    "model = CatBoostClassifier(iterations=300, learning_rate=0.1, depth=6, eval_metric='Accuracy', verbose=10)\n",
    "model.fit(x_train, y_train, cat_col, eval_set=(x_test, y_test))"
   ]
  },
  {
   "cell_type": "code",
   "execution_count": 8,
   "metadata": {},
   "outputs": [],
   "source": [
    "y_pred = model.predict(x_test)"
   ]
  },
  {
   "cell_type": "code",
   "execution_count": 9,
   "metadata": {},
   "outputs": [
    {
     "data": {
      "text/plain": [
       "array([[2376,    0],\n",
       "       [  95,    0]], dtype=int64)"
      ]
     },
     "execution_count": 9,
     "metadata": {},
     "output_type": "execute_result"
    }
   ],
   "source": [
    "cm =  confusion_matrix(y_true=y_test, y_pred=y_pred)\n",
    "cm"
   ]
  },
  {
   "cell_type": "code",
   "execution_count": 10,
   "metadata": {},
   "outputs": [
    {
     "name": "stdout",
     "output_type": "stream",
     "text": [
      "              precision    recall  f1-score   support\n",
      "\n",
      "           0       0.96      1.00      0.98      2376\n",
      "           1       1.00      0.00      0.00        95\n",
      "\n",
      "    accuracy                           0.96      2471\n",
      "   macro avg       0.98      0.50      0.49      2471\n",
      "weighted avg       0.96      0.96      0.94      2471\n",
      "\n"
     ]
    }
   ],
   "source": [
    "print(classification_report(y_true=y_test, y_pred=y_pred, zero_division=True))"
   ]
  },
  {
   "cell_type": "code",
   "execution_count": 11,
   "metadata": {},
   "outputs": [],
   "source": [
    "sm = SMOTE()\n",
    "x_sm, y_sm = sm.fit_resample(x,y)"
   ]
  },
  {
   "cell_type": "code",
   "execution_count": 12,
   "metadata": {},
   "outputs": [
    {
     "name": "stdout",
     "output_type": "stream",
     "text": [
      "0:\tlearn: 0.8007610\ttest: 0.8003735\tbest: 0.8003735 (0)\ttotal: 62.4ms\tremaining: 18.7s\n",
      "10:\tlearn: 0.9296437\ttest: 0.9279934\tbest: 0.9279934 (10)\ttotal: 712ms\tremaining: 18.7s\n",
      "20:\tlearn: 0.9547561\ttest: 0.9491596\tbest: 0.9491596 (20)\ttotal: 1.33s\tremaining: 17.6s\n",
      "30:\tlearn: 0.9624351\ttest: 0.9580826\tbest: 0.9580826 (30)\ttotal: 1.9s\tremaining: 16.5s\n",
      "40:\tlearn: 0.9675545\ttest: 0.9626479\tbest: 0.9626479 (40)\ttotal: 2.55s\tremaining: 16.1s\n",
      "50:\tlearn: 0.9703217\ttest: 0.9661756\tbest: 0.9661756 (49)\ttotal: 3.1s\tremaining: 15.1s\n",
      "60:\tlearn: 0.9725355\ttest: 0.9711558\tbest: 0.9711558 (59)\ttotal: 3.77s\tremaining: 14.8s\n",
      "70:\tlearn: 0.9753718\ttest: 0.9726084\tbest: 0.9726084 (70)\ttotal: 4.52s\tremaining: 14.6s\n",
      "80:\tlearn: 0.9772397\ttest: 0.9744760\tbest: 0.9746835 (79)\ttotal: 5.13s\tremaining: 13.9s\n",
      "90:\tlearn: 0.9777240\ttest: 0.9759286\tbest: 0.9759286 (90)\ttotal: 5.74s\tremaining: 13.2s\n",
      "100:\tlearn: 0.9786233\ttest: 0.9767587\tbest: 0.9767587 (100)\ttotal: 6.39s\tremaining: 12.6s\n",
      "110:\tlearn: 0.9789000\ttest: 0.9775887\tbest: 0.9775887 (110)\ttotal: 6.96s\tremaining: 11.8s\n",
      "120:\tlearn: 0.9794535\ttest: 0.9777962\tbest: 0.9780037 (117)\ttotal: 7.61s\tremaining: 11.3s\n",
      "130:\tlearn: 0.9799377\ttest: 0.9784188\tbest: 0.9784188 (130)\ttotal: 8.22s\tremaining: 10.6s\n",
      "140:\tlearn: 0.9800069\ttest: 0.9784188\tbest: 0.9784188 (130)\ttotal: 8.81s\tremaining: 9.94s\n",
      "150:\tlearn: 0.9800069\ttest: 0.9777962\tbest: 0.9784188 (130)\ttotal: 9.38s\tremaining: 9.25s\n",
      "160:\tlearn: 0.9804220\ttest: 0.9782112\tbest: 0.9784188 (130)\ttotal: 9.93s\tremaining: 8.58s\n",
      "170:\tlearn: 0.9810446\ttest: 0.9782112\tbest: 0.9784188 (130)\ttotal: 10.6s\tremaining: 7.99s\n",
      "180:\tlearn: 0.9809754\ttest: 0.9788338\tbest: 0.9788338 (175)\ttotal: 11.3s\tremaining: 7.4s\n",
      "190:\tlearn: 0.9811830\ttest: 0.9794563\tbest: 0.9794563 (187)\ttotal: 12s\tremaining: 6.84s\n",
      "200:\tlearn: 0.9814597\ttest: 0.9792488\tbest: 0.9794563 (187)\ttotal: 12.6s\tremaining: 6.21s\n",
      "210:\tlearn: 0.9817364\ttest: 0.9792488\tbest: 0.9794563 (187)\ttotal: 13.2s\tremaining: 5.56s\n",
      "220:\tlearn: 0.9820131\ttest: 0.9794563\tbest: 0.9794563 (187)\ttotal: 14.1s\tremaining: 5.04s\n",
      "230:\tlearn: 0.9819440\ttest: 0.9794563\tbest: 0.9794563 (187)\ttotal: 14.8s\tremaining: 4.42s\n",
      "240:\tlearn: 0.9823590\ttest: 0.9792488\tbest: 0.9794563 (187)\ttotal: 15.5s\tremaining: 3.79s\n",
      "250:\tlearn: 0.9826358\ttest: 0.9792488\tbest: 0.9794563 (187)\ttotal: 16.1s\tremaining: 3.15s\n",
      "260:\tlearn: 0.9829125\ttest: 0.9796638\tbest: 0.9796638 (257)\ttotal: 16.8s\tremaining: 2.52s\n",
      "270:\tlearn: 0.9831200\ttest: 0.9800789\tbest: 0.9800789 (270)\ttotal: 17.5s\tremaining: 1.88s\n",
      "280:\tlearn: 0.9834659\ttest: 0.9796638\tbest: 0.9800789 (270)\ttotal: 18.2s\tremaining: 1.23s\n",
      "290:\tlearn: 0.9833967\ttest: 0.9796638\tbest: 0.9800789 (270)\ttotal: 18.9s\tremaining: 585ms\n",
      "299:\tlearn: 0.9836043\ttest: 0.9796638\tbest: 0.9800789 (270)\ttotal: 19.5s\tremaining: 0us\n",
      "\n",
      "bestTest = 0.9800788545\n",
      "bestIteration = 270\n",
      "\n",
      "Shrink model to first 271 iterations.\n"
     ]
    },
    {
     "data": {
      "text/plain": [
       "<catboost.core.CatBoostClassifier at 0x243f8e3b160>"
      ]
     },
     "execution_count": 12,
     "metadata": {},
     "output_type": "execute_result"
    }
   ],
   "source": [
    "x_train, x_test, y_train, y_test = train_test_split(x_sm, y_sm)\n",
    "model = CatBoostClassifier(iterations=300, learning_rate=0.1, depth=6, eval_metric='Accuracy', verbose=10)\n",
    "model.fit(x_train, y_train, cat_col, eval_set=(x_test, y_test))"
   ]
  },
  {
   "cell_type": "code",
   "execution_count": 13,
   "metadata": {},
   "outputs": [],
   "source": [
    "y_pred = model.predict(x_test)"
   ]
  },
  {
   "cell_type": "code",
   "execution_count": 14,
   "metadata": {},
   "outputs": [
    {
     "data": {
      "text/plain": [
       "array([[2391,    5],\n",
       "       [  91, 2332]], dtype=int64)"
      ]
     },
     "execution_count": 14,
     "metadata": {},
     "output_type": "execute_result"
    }
   ],
   "source": [
    "cm =  confusion_matrix(y_true=y_test, y_pred=y_pred)\n",
    "cm"
   ]
  },
  {
   "cell_type": "code",
   "execution_count": 15,
   "metadata": {},
   "outputs": [
    {
     "name": "stdout",
     "output_type": "stream",
     "text": [
      "              precision    recall  f1-score   support\n",
      "\n",
      "           0       0.96      1.00      0.98      2396\n",
      "           1       1.00      0.96      0.98      2423\n",
      "\n",
      "    accuracy                           0.98      4819\n",
      "   macro avg       0.98      0.98      0.98      4819\n",
      "weighted avg       0.98      0.98      0.98      4819\n",
      "\n"
     ]
    }
   ],
   "source": [
    "print(classification_report(y_true=y_test, y_pred=y_pred))"
   ]
  },
  {
   "cell_type": "code",
   "execution_count": 16,
   "metadata": {},
   "outputs": [],
   "source": [
    "smt = SMOTETomek()\n",
    "x_smt, y_smt = smt.fit_resample(x,y)"
   ]
  },
  {
   "cell_type": "code",
   "execution_count": 17,
   "metadata": {},
   "outputs": [
    {
     "name": "stdout",
     "output_type": "stream",
     "text": [
      "0:\tlearn: 0.7841577\ttest: 0.7879228\tbest: 0.7879228 (0)\ttotal: 64.9ms\tremaining: 19.4s\n",
      "10:\tlearn: 0.9322034\ttest: 0.9367089\tbest: 0.9367089 (10)\ttotal: 665ms\tremaining: 17.5s\n",
      "20:\tlearn: 0.9517122\ttest: 0.9587051\tbest: 0.9587051 (20)\ttotal: 1.29s\tremaining: 17.2s\n",
      "30:\tlearn: 0.9625735\ttest: 0.9655530\tbest: 0.9659680 (28)\ttotal: 1.97s\tremaining: 17.1s\n",
      "40:\tlearn: 0.9695607\ttest: 0.9711558\tbest: 0.9711558 (40)\ttotal: 2.56s\tremaining: 16.1s\n",
      "50:\tlearn: 0.9733656\ttest: 0.9730234\tbest: 0.9730234 (50)\ttotal: 3.18s\tremaining: 15.5s\n",
      "60:\tlearn: 0.9759253\ttest: 0.9763436\tbest: 0.9763436 (59)\ttotal: 3.77s\tremaining: 14.8s\n",
      "70:\tlearn: 0.9769630\ttest: 0.9769662\tbest: 0.9771737 (67)\ttotal: 4.41s\tremaining: 14.2s\n",
      "80:\tlearn: 0.9779315\ttest: 0.9782112\tbest: 0.9782112 (77)\ttotal: 5.05s\tremaining: 13.7s\n",
      "90:\tlearn: 0.9787617\ttest: 0.9780037\tbest: 0.9788338 (88)\ttotal: 5.67s\tremaining: 13s\n",
      "100:\tlearn: 0.9793151\ttest: 0.9788338\tbest: 0.9788338 (88)\ttotal: 6.27s\tremaining: 12.4s\n",
      "110:\tlearn: 0.9798686\ttest: 0.9798713\tbest: 0.9798713 (110)\ttotal: 6.87s\tremaining: 11.7s\n",
      "120:\tlearn: 0.9797302\ttest: 0.9798713\tbest: 0.9798713 (110)\ttotal: 7.62s\tremaining: 11.3s\n",
      "130:\tlearn: 0.9800761\ttest: 0.9796638\tbest: 0.9798713 (110)\ttotal: 8.36s\tremaining: 10.8s\n",
      "140:\tlearn: 0.9802836\ttest: 0.9798713\tbest: 0.9798713 (110)\ttotal: 8.99s\tremaining: 10.1s\n",
      "150:\tlearn: 0.9809063\ttest: 0.9798713\tbest: 0.9800789 (145)\ttotal: 9.65s\tremaining: 9.52s\n",
      "160:\tlearn: 0.9813905\ttest: 0.9800789\tbest: 0.9800789 (145)\ttotal: 10.3s\tremaining: 8.87s\n",
      "170:\tlearn: 0.9816672\ttest: 0.9802864\tbest: 0.9802864 (170)\ttotal: 10.8s\tremaining: 8.18s\n",
      "180:\tlearn: 0.9822207\ttest: 0.9807014\tbest: 0.9807014 (175)\ttotal: 11.4s\tremaining: 7.5s\n",
      "190:\tlearn: 0.9822899\ttest: 0.9807014\tbest: 0.9807014 (175)\ttotal: 12s\tremaining: 6.84s\n",
      "200:\tlearn: 0.9827049\ttest: 0.9807014\tbest: 0.9807014 (175)\ttotal: 12.6s\tremaining: 6.19s\n",
      "210:\tlearn: 0.9830508\ttest: 0.9809089\tbest: 0.9809089 (207)\ttotal: 13.3s\tremaining: 5.61s\n",
      "220:\tlearn: 0.9831200\ttest: 0.9807014\tbest: 0.9809089 (207)\ttotal: 13.9s\tremaining: 4.97s\n",
      "230:\tlearn: 0.9835351\ttest: 0.9807014\tbest: 0.9809089 (207)\ttotal: 14.5s\tremaining: 4.33s\n",
      "240:\tlearn: 0.9838810\ttest: 0.9804939\tbest: 0.9809089 (207)\ttotal: 15.1s\tremaining: 3.7s\n",
      "250:\tlearn: 0.9840886\ttest: 0.9802864\tbest: 0.9809089 (207)\ttotal: 15.8s\tremaining: 3.09s\n",
      "260:\tlearn: 0.9845036\ttest: 0.9802864\tbest: 0.9809089 (207)\ttotal: 16.4s\tremaining: 2.46s\n",
      "270:\tlearn: 0.9849187\ttest: 0.9804939\tbest: 0.9809089 (207)\ttotal: 17.1s\tremaining: 1.83s\n",
      "280:\tlearn: 0.9850571\ttest: 0.9807014\tbest: 0.9809089 (207)\ttotal: 17.7s\tremaining: 1.2s\n",
      "290:\tlearn: 0.9851954\ttest: 0.9807014\tbest: 0.9809089 (207)\ttotal: 18.3s\tremaining: 567ms\n",
      "299:\tlearn: 0.9856797\ttest: 0.9809089\tbest: 0.9809089 (207)\ttotal: 18.9s\tremaining: 0us\n",
      "\n",
      "bestTest = 0.9809089023\n",
      "bestIteration = 207\n",
      "\n",
      "Shrink model to first 208 iterations.\n"
     ]
    },
    {
     "data": {
      "text/plain": [
       "<catboost.core.CatBoostClassifier at 0x2438b8bed40>"
      ]
     },
     "execution_count": 17,
     "metadata": {},
     "output_type": "execute_result"
    }
   ],
   "source": [
    "x_train, x_test, y_train, y_test = train_test_split(x_smt, y_smt)\n",
    "model = CatBoostClassifier(iterations=300, learning_rate=0.1, depth=6, eval_metric='Accuracy', verbose=10)\n",
    "model.fit(x_train, y_train, cat_col, eval_set=(x_test, y_test))"
   ]
  },
  {
   "cell_type": "code",
   "execution_count": 18,
   "metadata": {},
   "outputs": [],
   "source": [
    "y_pred = model.predict(x_test)"
   ]
  },
  {
   "cell_type": "code",
   "execution_count": 19,
   "metadata": {},
   "outputs": [
    {
     "data": {
      "text/plain": [
       "array([[2408,   11],\n",
       "       [  81, 2319]], dtype=int64)"
      ]
     },
     "execution_count": 19,
     "metadata": {},
     "output_type": "execute_result"
    }
   ],
   "source": [
    "cm =  confusion_matrix(y_true=y_test, y_pred=y_pred)\n",
    "cm"
   ]
  },
  {
   "cell_type": "code",
   "execution_count": 20,
   "metadata": {},
   "outputs": [
    {
     "name": "stdout",
     "output_type": "stream",
     "text": [
      "              precision    recall  f1-score   support\n",
      "\n",
      "           0       0.97      1.00      0.98      2419\n",
      "           1       1.00      0.97      0.98      2400\n",
      "\n",
      "    accuracy                           0.98      4819\n",
      "   macro avg       0.98      0.98      0.98      4819\n",
      "weighted avg       0.98      0.98      0.98      4819\n",
      "\n"
     ]
    }
   ],
   "source": [
    "print(classification_report(y_true=y_test, y_pred=y_pred))"
   ]
  },
  {
   "cell_type": "code",
   "execution_count": null,
   "metadata": {},
   "outputs": [],
   "source": []
  }
 ],
 "metadata": {
  "kernelspec": {
   "display_name": "base",
   "language": "python",
   "name": "python3"
  },
  "language_info": {
   "codemirror_mode": {
    "name": "ipython",
    "version": 3
   },
   "file_extension": ".py",
   "mimetype": "text/x-python",
   "name": "python",
   "nbconvert_exporter": "python",
   "pygments_lexer": "ipython3",
   "version": "3.10.9"
  },
  "orig_nbformat": 4
 },
 "nbformat": 4,
 "nbformat_minor": 2
}
